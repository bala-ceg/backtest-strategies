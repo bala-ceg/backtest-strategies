{
  "nbformat": 4,
  "nbformat_minor": 0,
  "metadata": {
    "colab": {
      "provenance": [],
      "authorship_tag": "ABX9TyM8igtCv4rB6z00wWVxLA2N",
      "include_colab_link": true
    },
    "kernelspec": {
      "name": "python3",
      "display_name": "Python 3"
    },
    "language_info": {
      "name": "python"
    }
  },
  "cells": [
    {
      "cell_type": "markdown",
      "metadata": {
        "id": "view-in-github",
        "colab_type": "text"
      },
      "source": [
        "<a href=\"https://colab.research.google.com/github/bala-ceg/backtest-strategies/blob/main/weeklyexpiry_prediction.ipynb\" target=\"_parent\"><img src=\"https://colab.research.google.com/assets/colab-badge.svg\" alt=\"Open In Colab\"/></a>"
      ]
    },
    {
      "cell_type": "markdown",
      "source": [
        "## Install & Import Necessary Libs"
      ],
      "metadata": {
        "id": "AvLms4fdD05Y"
      }
    },
    {
      "cell_type": "code",
      "source": [
        "!pip install nsepython\n",
        "!pip install backtesting"
      ],
      "metadata": {
        "id": "p-rBKarqtssb"
      },
      "execution_count": null,
      "outputs": []
    },
    {
      "cell_type": "code",
      "source": [
        "from nsepython import *"
      ],
      "metadata": {
        "id": "AtCIBB-Vtz0b"
      },
      "execution_count": 2,
      "outputs": []
    },
    {
      "cell_type": "code",
      "source": [
        "symbol = \"NIFTY\"\n",
        "start_date = \"19-06-2024\"\n",
        "end_date =\"19-06-2024\"\n",
        "instrumentType = \"options\"\n",
        "expiry_date =\"20-Jun-2024\"\n",
        "put_df = derivative_history(symbol,start_date,end_date,instrumentType,expiry_date,strikePrice=\"\",optionType=\"PE\")\n",
        "put_df['FH_OPEN_INT'] = put_df['FH_OPEN_INT'].astype(int)\n",
        "put_df = put_df.sort_values(by=['FH_OPEN_INT'], ascending=False)\n",
        "call_df = derivative_history(symbol,start_date,end_date,instrumentType,expiry_date,strikePrice=\"\",optionType=\"CE\")\n",
        "call_df['FH_OPEN_INT'] = call_df['FH_OPEN_INT'].astype(int)\n",
        "call_df = call_df.sort_values(by=['FH_OPEN_INT'], ascending=False)"
      ],
      "metadata": {
        "id": "In1j0ubsL1ZS"
      },
      "execution_count": 29,
      "outputs": []
    },
    {
      "cell_type": "code",
      "source": [
        "put_df[['FH_STRIKE_PRICE', 'FH_OPEN_INT']]"
      ],
      "metadata": {
        "id": "dwBYLZTiWk2R"
      },
      "execution_count": null,
      "outputs": []
    },
    {
      "cell_type": "code",
      "source": [
        "call_df[['FH_STRIKE_PRICE', 'FH_OPEN_INT']]"
      ],
      "metadata": {
        "id": "gnS5GoRrZcSJ"
      },
      "execution_count": null,
      "outputs": []
    }
  ]
}